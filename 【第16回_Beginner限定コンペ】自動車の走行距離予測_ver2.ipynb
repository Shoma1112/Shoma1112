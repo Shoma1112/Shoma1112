{
  "nbformat": 4,
  "nbformat_minor": 0,
  "metadata": {
    "colab": {
      "name": "【第16回_Beginner限定コンペ】自動車の走行距離予測 ver2",
      "provenance": [],
      "authorship_tag": "ABX9TyOTQeeW8lmm8MK7GvZjc5no",
      "include_colab_link": true
    },
    "kernelspec": {
      "name": "python3",
      "display_name": "Python 3"
    },
    "language_info": {
      "name": "python"
    }
  },
  "cells": [
    {
      "cell_type": "markdown",
      "metadata": {
        "id": "view-in-github",
        "colab_type": "text"
      },
      "source": [
        "<a href=\"https://colab.research.google.com/github/Shoma1112/Shoma1112/blob/main/%E3%80%90%E7%AC%AC16%E5%9B%9E_Beginner%E9%99%90%E5%AE%9A%E3%82%B3%E3%83%B3%E3%83%9A%E3%80%91%E8%87%AA%E5%8B%95%E8%BB%8A%E3%81%AE%E8%B5%B0%E8%A1%8C%E8%B7%9D%E9%9B%A2%E4%BA%88%E6%B8%AC_ver2.ipynb\" target=\"_parent\"><img src=\"https://colab.research.google.com/assets/colab-badge.svg\" alt=\"Open In Colab\"/></a>"
      ]
    },
    {
      "cell_type": "markdown",
      "metadata": {
        "id": "b81IzjJWxHVz"
      },
      "source": [
        "【第16回_Beginner限定コンペ】自動車の走行距離予測"
      ]
    },
    {
      "cell_type": "code",
      "metadata": {
        "id": "qLtv3hNCxM3M"
      },
      "source": [
        "import numpy as np\n",
        "import pandas as pd\n",
        "import pandas_profiling\n",
        "from sklearn.linear_model import LogisticRegression\n",
        "from sklearn.ensemble import RandomForestClassifier\n",
        "import lightgbm as lgb\n",
        "\n",
        "from sklearn.model_selection import train_test_split\n",
        "\n",
        "import statsmodels.formula.api as smf"
      ],
      "execution_count": null,
      "outputs": []
    },
    {
      "cell_type": "code",
      "metadata": {
        "id": "iueFdDnZxM2h"
      },
      "source": [
        "data = pd.read_csv(\"sample_data/train.csv\")\n",
        "test = pd.read_csv(\"sample_data/test.csv\")"
      ],
      "execution_count": null,
      "outputs": []
    },
    {
      "cell_type": "code",
      "metadata": {
        "id": "sxIJR_akNTwP"
      },
      "source": [
        "#train.profile_report()"
      ],
      "execution_count": null,
      "outputs": []
    },
    {
      "cell_type": "code",
      "metadata": {
        "id": "0MhoMgYGxMlT",
        "colab": {
          "base_uri": "https://localhost:8080/"
        },
        "outputId": "fe9c41c9-73e2-4b83-e4ed-e63f9cea309b"
      },
      "source": [
        "data.info()"
      ],
      "execution_count": null,
      "outputs": [
        {
          "output_type": "stream",
          "name": "stdout",
          "text": [
            "<class 'pandas.core.frame.DataFrame'>\n",
            "RangeIndex: 1200 entries, 0 to 1199\n",
            "Data columns (total 10 columns):\n",
            " #   Column        Non-Null Count  Dtype  \n",
            "---  ------        --------------  -----  \n",
            " 0   id            1200 non-null   int64  \n",
            " 1   cylinders     1200 non-null   float64\n",
            " 2   displacement  1200 non-null   float64\n",
            " 3   horsepower    1200 non-null   object \n",
            " 4   weight        1200 non-null   float64\n",
            " 5   acceleration  1200 non-null   float64\n",
            " 6   model year    1200 non-null   float64\n",
            " 7   origin        1200 non-null   float64\n",
            " 8   car name      1200 non-null   object \n",
            " 9   mpg           1200 non-null   float64\n",
            "dtypes: float64(7), int64(1), object(2)\n",
            "memory usage: 93.9+ KB\n"
          ]
        }
      ]
    },
    {
      "cell_type": "code",
      "metadata": {
        "id": "aV4u0dYMUQyH"
      },
      "source": [
        "#label化\n",
        "from sklearn.preprocessing import LabelEncoder\n",
        "\n",
        "train = pd.concat([data, test], sort=False)\n",
        "\n",
        "le = LabelEncoder()\n",
        "encoded = le.fit_transform(train['car name'].values)\n",
        "train['car name'] = encoded\n",
        "train['car name'] = train[\"car name\"].astype(\"category\")"
      ],
      "execution_count": null,
      "outputs": []
    },
    {
      "cell_type": "code",
      "metadata": {
        "id": "g-7Wes0BUSso"
      },
      "source": [
        "data = train.iloc[:len(data)]\n",
        "test = train.iloc[len(data):]"
      ],
      "execution_count": null,
      "outputs": []
    },
    {
      "cell_type": "code",
      "metadata": {
        "colab": {
          "base_uri": "https://localhost:8080/",
          "height": 235
        },
        "id": "GLMyYVhQV0_0",
        "outputId": "c6f89fbe-ccd9-4488-83e9-3ca0167f65ea"
      },
      "source": [
        "#変数選択\n",
        "threshold = 0.8\n",
        "\n",
        "X = data.iloc[:, 1:9]\n",
        "corr_matrix = X.corr().abs()\n",
        "corr_matrix"
      ],
      "execution_count": null,
      "outputs": [
        {
          "output_type": "execute_result",
          "data": {
            "text/html": [
              "<div>\n",
              "<style scoped>\n",
              "    .dataframe tbody tr th:only-of-type {\n",
              "        vertical-align: middle;\n",
              "    }\n",
              "\n",
              "    .dataframe tbody tr th {\n",
              "        vertical-align: top;\n",
              "    }\n",
              "\n",
              "    .dataframe thead th {\n",
              "        text-align: right;\n",
              "    }\n",
              "</style>\n",
              "<table border=\"1\" class=\"dataframe\">\n",
              "  <thead>\n",
              "    <tr style=\"text-align: right;\">\n",
              "      <th></th>\n",
              "      <th>cylinders</th>\n",
              "      <th>displacement</th>\n",
              "      <th>weight</th>\n",
              "      <th>acceleration</th>\n",
              "      <th>model year</th>\n",
              "      <th>origin</th>\n",
              "    </tr>\n",
              "  </thead>\n",
              "  <tbody>\n",
              "    <tr>\n",
              "      <th>cylinders</th>\n",
              "      <td>1.000000</td>\n",
              "      <td>0.757172</td>\n",
              "      <td>0.319396</td>\n",
              "      <td>0.431085</td>\n",
              "      <td>0.370580</td>\n",
              "      <td>0.221007</td>\n",
              "    </tr>\n",
              "    <tr>\n",
              "      <th>displacement</th>\n",
              "      <td>0.757172</td>\n",
              "      <td>1.000000</td>\n",
              "      <td>0.393332</td>\n",
              "      <td>0.341080</td>\n",
              "      <td>0.457503</td>\n",
              "      <td>0.286420</td>\n",
              "    </tr>\n",
              "    <tr>\n",
              "      <th>weight</th>\n",
              "      <td>0.319396</td>\n",
              "      <td>0.393332</td>\n",
              "      <td>1.000000</td>\n",
              "      <td>0.048476</td>\n",
              "      <td>0.264717</td>\n",
              "      <td>0.041376</td>\n",
              "    </tr>\n",
              "    <tr>\n",
              "      <th>acceleration</th>\n",
              "      <td>0.431085</td>\n",
              "      <td>0.341080</td>\n",
              "      <td>0.048476</td>\n",
              "      <td>1.000000</td>\n",
              "      <td>0.190724</td>\n",
              "      <td>0.056397</td>\n",
              "    </tr>\n",
              "    <tr>\n",
              "      <th>model year</th>\n",
              "      <td>0.370580</td>\n",
              "      <td>0.457503</td>\n",
              "      <td>0.264717</td>\n",
              "      <td>0.190724</td>\n",
              "      <td>1.000000</td>\n",
              "      <td>0.050123</td>\n",
              "    </tr>\n",
              "    <tr>\n",
              "      <th>origin</th>\n",
              "      <td>0.221007</td>\n",
              "      <td>0.286420</td>\n",
              "      <td>0.041376</td>\n",
              "      <td>0.056397</td>\n",
              "      <td>0.050123</td>\n",
              "      <td>1.000000</td>\n",
              "    </tr>\n",
              "  </tbody>\n",
              "</table>\n",
              "</div>"
            ],
            "text/plain": [
              "              cylinders  displacement  ...  model year    origin\n",
              "cylinders      1.000000      0.757172  ...    0.370580  0.221007\n",
              "displacement   0.757172      1.000000  ...    0.457503  0.286420\n",
              "weight         0.319396      0.393332  ...    0.264717  0.041376\n",
              "acceleration   0.431085      0.341080  ...    0.190724  0.056397\n",
              "model year     0.370580      0.457503  ...    1.000000  0.050123\n",
              "origin         0.221007      0.286420  ...    0.050123  1.000000\n",
              "\n",
              "[6 rows x 6 columns]"
            ]
          },
          "metadata": {},
          "execution_count": 217
        }
      ]
    },
    {
      "cell_type": "code",
      "metadata": {
        "colab": {
          "base_uri": "https://localhost:8080/",
          "height": 204
        },
        "id": "Nv8pQsRiV-Eb",
        "outputId": "e9d5d3e6-2981-42aa-8d67-8b36ca00a3a9"
      },
      "source": [
        "test.head()"
      ],
      "execution_count": null,
      "outputs": [
        {
          "output_type": "execute_result",
          "data": {
            "text/html": [
              "<div>\n",
              "<style scoped>\n",
              "    .dataframe tbody tr th:only-of-type {\n",
              "        vertical-align: middle;\n",
              "    }\n",
              "\n",
              "    .dataframe tbody tr th {\n",
              "        vertical-align: top;\n",
              "    }\n",
              "\n",
              "    .dataframe thead th {\n",
              "        text-align: right;\n",
              "    }\n",
              "</style>\n",
              "<table border=\"1\" class=\"dataframe\">\n",
              "  <thead>\n",
              "    <tr style=\"text-align: right;\">\n",
              "      <th></th>\n",
              "      <th>id</th>\n",
              "      <th>cylinders</th>\n",
              "      <th>displacement</th>\n",
              "      <th>horsepower</th>\n",
              "      <th>weight</th>\n",
              "      <th>acceleration</th>\n",
              "      <th>model year</th>\n",
              "      <th>origin</th>\n",
              "      <th>car name</th>\n",
              "      <th>mpg</th>\n",
              "    </tr>\n",
              "  </thead>\n",
              "  <tbody>\n",
              "    <tr>\n",
              "      <th>0</th>\n",
              "      <td>1200</td>\n",
              "      <td>4.002</td>\n",
              "      <td>97.502470</td>\n",
              "      <td>71</td>\n",
              "      <td>2722.792216</td>\n",
              "      <td>15.419528</td>\n",
              "      <td>76.434109</td>\n",
              "      <td>0.998000</td>\n",
              "      <td>11</td>\n",
              "      <td>NaN</td>\n",
              "    </tr>\n",
              "    <tr>\n",
              "      <th>1</th>\n",
              "      <td>1201</td>\n",
              "      <td>4.002</td>\n",
              "      <td>132.430995</td>\n",
              "      <td>150</td>\n",
              "      <td>1794.227186</td>\n",
              "      <td>20.032104</td>\n",
              "      <td>76.774002</td>\n",
              "      <td>0.998000</td>\n",
              "      <td>58</td>\n",
              "      <td>NaN</td>\n",
              "    </tr>\n",
              "    <tr>\n",
              "      <th>2</th>\n",
              "      <td>1202</td>\n",
              "      <td>4.002</td>\n",
              "      <td>100.040582</td>\n",
              "      <td>150</td>\n",
              "      <td>2103.863515</td>\n",
              "      <td>13.415063</td>\n",
              "      <td>70.997969</td>\n",
              "      <td>0.998000</td>\n",
              "      <td>21</td>\n",
              "      <td>NaN</td>\n",
              "    </tr>\n",
              "    <tr>\n",
              "      <th>3</th>\n",
              "      <td>1203</td>\n",
              "      <td>6.002</td>\n",
              "      <td>400.452581</td>\n",
              "      <td>85</td>\n",
              "      <td>2722.502681</td>\n",
              "      <td>17.665557</td>\n",
              "      <td>71.431953</td>\n",
              "      <td>0.998000</td>\n",
              "      <td>9</td>\n",
              "      <td>NaN</td>\n",
              "    </tr>\n",
              "    <tr>\n",
              "      <th>4</th>\n",
              "      <td>1204</td>\n",
              "      <td>4.002</td>\n",
              "      <td>143.165887</td>\n",
              "      <td>90</td>\n",
              "      <td>3277.078489</td>\n",
              "      <td>15.517748</td>\n",
              "      <td>80.722361</td>\n",
              "      <td>0.998001</td>\n",
              "      <td>44</td>\n",
              "      <td>NaN</td>\n",
              "    </tr>\n",
              "  </tbody>\n",
              "</table>\n",
              "</div>"
            ],
            "text/plain": [
              "     id  cylinders  displacement horsepower  ...  model year    origin  car name  mpg\n",
              "0  1200      4.002     97.502470         71  ...   76.434109  0.998000        11  NaN\n",
              "1  1201      4.002    132.430995        150  ...   76.774002  0.998000        58  NaN\n",
              "2  1202      4.002    100.040582        150  ...   70.997969  0.998000        21  NaN\n",
              "3  1203      6.002    400.452581         85  ...   71.431953  0.998000         9  NaN\n",
              "4  1204      4.002    143.165887         90  ...   80.722361  0.998001        44  NaN\n",
              "\n",
              "[5 rows x 10 columns]"
            ]
          },
          "metadata": {},
          "execution_count": 218
        }
      ]
    },
    {
      "cell_type": "code",
      "metadata": {
        "colab": {
          "base_uri": "https://localhost:8080/"
        },
        "id": "Zwi-o1u0yQzt",
        "outputId": "26dda89f-4567-48a1-d0e7-59af07f6822b"
      },
      "source": [
        "#欠損値\"?\"を埋める\n",
        "\n",
        "data = data.replace(\"?\", np.NaN)\n",
        "\n",
        "data[\"horsepower\"] = data[\"horsepower\"].astype('float64')\n",
        "lm = smf.ols(formula='horsepower ~ cylinders', data=data).fit()\n",
        "data[\"horsepower\"] = data[\"horsepower\"].fillna(lm.predict(data[\"cylinders\"]))\n",
        "\n",
        "data.isnull().sum()"
      ],
      "execution_count": null,
      "outputs": [
        {
          "output_type": "execute_result",
          "data": {
            "text/plain": [
              "id              0\n",
              "cylinders       0\n",
              "displacement    0\n",
              "horsepower      0\n",
              "weight          0\n",
              "acceleration    0\n",
              "model year      0\n",
              "origin          0\n",
              "car name        0\n",
              "mpg             0\n",
              "dtype: int64"
            ]
          },
          "metadata": {},
          "execution_count": 219
        }
      ]
    },
    {
      "cell_type": "code",
      "metadata": {
        "id": "uKmK8XIe1Ey4"
      },
      "source": [
        "X = data.drop(columns=[\"mpg\", \"id\"])\n",
        "y = data[\"mpg\"]"
      ],
      "execution_count": null,
      "outputs": []
    },
    {
      "cell_type": "code",
      "metadata": {
        "colab": {
          "base_uri": "https://localhost:8080/"
        },
        "id": "-BS0kbPeJdfu",
        "outputId": "bb1690fb-13ef-4412-ed5b-090a6b638dcc"
      },
      "source": [
        "test_id = test[\"id\"]\n",
        "#test = test.drop(columns=[\"id\", \"mpg\"])\n",
        "test = test.drop(columns=[\"id\"])\n",
        "\n",
        "test = test.replace(\"?\", np.NaN)\n",
        "test[\"horsepower\"] = test[\"horsepower\"].astype('float64')\n",
        "lm = smf.ols(formula='horsepower ~ cylinders', data=test).fit()\n",
        "test[\"horsepower\"] = test[\"horsepower\"].fillna(lm.predict(data[\"cylinders\"]))\n",
        "test.isnull().sum()"
      ],
      "execution_count": null,
      "outputs": [
        {
          "output_type": "execute_result",
          "data": {
            "text/plain": [
              "cylinders         0\n",
              "displacement      0\n",
              "horsepower        0\n",
              "weight            0\n",
              "acceleration      0\n",
              "model year        0\n",
              "origin            0\n",
              "car name          0\n",
              "mpg             800\n",
              "dtype: int64"
            ]
          },
          "metadata": {},
          "execution_count": 221
        }
      ]
    },
    {
      "cell_type": "code",
      "metadata": {
        "id": "Cr2Xdl8T2FOO"
      },
      "source": [
        "#train, testに分ける\n",
        "X_train, X_valid, y_train, y_valid = train_test_split(X, y, test_size=0.3, random_state=0)"
      ],
      "execution_count": null,
      "outputs": []
    },
    {
      "cell_type": "code",
      "metadata": {
        "colab": {
          "base_uri": "https://localhost:8080/"
        },
        "id": "jhVGUevE4FJK",
        "outputId": "5f8d333c-c6f2-4d03-e392-6ab41ea3034b"
      },
      "source": [
        "#lightgbm model\n",
        "lgb_train = lgb.Dataset(X_train, y_train, categorical_feature=['car name'])\n",
        "lgb_eval =  lgb.Dataset(X_valid, y_valid, categorical_feature=['car name'])\n",
        "\n",
        "params = {'objective':'rmse', 'max_bin':300, 'learning_rate':0.05, 'num_leaves':200}\n",
        "\n",
        "model = lgb.train(params, lgb_train, valid_sets=[lgb_train, lgb_eval],\n",
        "                  verbose_eval=10,\n",
        "                  num_boost_round=1000,\n",
        "                  early_stopping_rounds=200)\n",
        "\n",
        "y_pred_lgb = model.predict(test, num_iteration=model.best_iteration)"
      ],
      "execution_count": null,
      "outputs": [
        {
          "output_type": "stream",
          "name": "stderr",
          "text": [
            "/usr/local/lib/python3.7/dist-packages/lightgbm/basic.py:1205: UserWarning: Using categorical_feature in Dataset.\n",
            "  warnings.warn('Using categorical_feature in Dataset.')\n",
            "/usr/local/lib/python3.7/dist-packages/lightgbm/basic.py:762: UserWarning: categorical_feature in param dict is overridden.\n",
            "  warnings.warn('categorical_feature in param dict is overridden.')\n"
          ]
        },
        {
          "output_type": "stream",
          "name": "stdout",
          "text": [
            "Training until validation scores don't improve for 200 rounds.\n",
            "[10]\ttraining's rmse: 5.01722\tvalid_1's rmse: 5.25848\n",
            "[20]\ttraining's rmse: 3.62237\tvalid_1's rmse: 4.02773\n",
            "[30]\ttraining's rmse: 2.85516\tvalid_1's rmse: 3.44118\n",
            "[40]\ttraining's rmse: 2.4084\tvalid_1's rmse: 3.15988\n",
            "[50]\ttraining's rmse: 2.13866\tvalid_1's rmse: 3.043\n",
            "[60]\ttraining's rmse: 1.95521\tvalid_1's rmse: 2.98111\n",
            "[70]\ttraining's rmse: 1.81142\tvalid_1's rmse: 2.94281\n",
            "[80]\ttraining's rmse: 1.69594\tvalid_1's rmse: 2.91376\n",
            "[90]\ttraining's rmse: 1.59663\tvalid_1's rmse: 2.91333\n",
            "[100]\ttraining's rmse: 1.50502\tvalid_1's rmse: 2.91205\n",
            "[110]\ttraining's rmse: 1.42008\tvalid_1's rmse: 2.90294\n",
            "[120]\ttraining's rmse: 1.3512\tvalid_1's rmse: 2.89497\n",
            "[130]\ttraining's rmse: 1.28378\tvalid_1's rmse: 2.88243\n",
            "[140]\ttraining's rmse: 1.22527\tvalid_1's rmse: 2.88173\n",
            "[150]\ttraining's rmse: 1.17683\tvalid_1's rmse: 2.88442\n",
            "[160]\ttraining's rmse: 1.12825\tvalid_1's rmse: 2.88229\n",
            "[170]\ttraining's rmse: 1.08051\tvalid_1's rmse: 2.88409\n",
            "[180]\ttraining's rmse: 1.03789\tvalid_1's rmse: 2.88328\n",
            "[190]\ttraining's rmse: 0.998525\tvalid_1's rmse: 2.88357\n",
            "[200]\ttraining's rmse: 0.963984\tvalid_1's rmse: 2.88298\n",
            "[210]\ttraining's rmse: 0.926385\tvalid_1's rmse: 2.88543\n",
            "[220]\ttraining's rmse: 0.892941\tvalid_1's rmse: 2.8829\n",
            "[230]\ttraining's rmse: 0.861439\tvalid_1's rmse: 2.88335\n",
            "[240]\ttraining's rmse: 0.834304\tvalid_1's rmse: 2.88097\n",
            "[250]\ttraining's rmse: 0.807529\tvalid_1's rmse: 2.88095\n",
            "[260]\ttraining's rmse: 0.78138\tvalid_1's rmse: 2.8822\n",
            "[270]\ttraining's rmse: 0.75703\tvalid_1's rmse: 2.88118\n",
            "[280]\ttraining's rmse: 0.733213\tvalid_1's rmse: 2.87981\n",
            "[290]\ttraining's rmse: 0.707655\tvalid_1's rmse: 2.88041\n",
            "[300]\ttraining's rmse: 0.686054\tvalid_1's rmse: 2.8807\n",
            "[310]\ttraining's rmse: 0.66212\tvalid_1's rmse: 2.88306\n",
            "[320]\ttraining's rmse: 0.640963\tvalid_1's rmse: 2.88503\n",
            "[330]\ttraining's rmse: 0.621251\tvalid_1's rmse: 2.88317\n",
            "[340]\ttraining's rmse: 0.603723\tvalid_1's rmse: 2.88304\n",
            "[350]\ttraining's rmse: 0.5871\tvalid_1's rmse: 2.88314\n",
            "[360]\ttraining's rmse: 0.570822\tvalid_1's rmse: 2.8838\n",
            "[370]\ttraining's rmse: 0.558379\tvalid_1's rmse: 2.8848\n",
            "[380]\ttraining's rmse: 0.543819\tvalid_1's rmse: 2.88667\n",
            "[390]\ttraining's rmse: 0.530759\tvalid_1's rmse: 2.88601\n",
            "[400]\ttraining's rmse: 0.517383\tvalid_1's rmse: 2.88665\n",
            "[410]\ttraining's rmse: 0.504749\tvalid_1's rmse: 2.88814\n",
            "[420]\ttraining's rmse: 0.493304\tvalid_1's rmse: 2.88914\n",
            "[430]\ttraining's rmse: 0.484033\tvalid_1's rmse: 2.89058\n",
            "[440]\ttraining's rmse: 0.473795\tvalid_1's rmse: 2.89173\n",
            "[450]\ttraining's rmse: 0.464517\tvalid_1's rmse: 2.89254\n",
            "[460]\ttraining's rmse: 0.453929\tvalid_1's rmse: 2.89228\n",
            "[470]\ttraining's rmse: 0.443837\tvalid_1's rmse: 2.89318\n",
            "[480]\ttraining's rmse: 0.434906\tvalid_1's rmse: 2.8926\n",
            "Early stopping, best iteration is:\n",
            "[281]\ttraining's rmse: 0.731204\tvalid_1's rmse: 2.87901\n"
          ]
        }
      ]
    },
    {
      "cell_type": "code",
      "metadata": {
        "colab": {
          "base_uri": "https://localhost:8080/",
          "height": 204
        },
        "id": "hD_Be1uf4ofU",
        "outputId": "7bc7a084-402b-4abb-dda8-d801b8f78478"
      },
      "source": [
        "sub_pred = pd.DataFrame(data=y_pred_lgb)\n",
        "\n",
        "sub = pd.concat([test_id, sub_pred], axis=1, sort=False)\n",
        "sub.to_csv(\"submit.csv\", header=False, index=False)\n",
        "sub.head()"
      ],
      "execution_count": null,
      "outputs": [
        {
          "output_type": "execute_result",
          "data": {
            "text/html": [
              "<div>\n",
              "<style scoped>\n",
              "    .dataframe tbody tr th:only-of-type {\n",
              "        vertical-align: middle;\n",
              "    }\n",
              "\n",
              "    .dataframe tbody tr th {\n",
              "        vertical-align: top;\n",
              "    }\n",
              "\n",
              "    .dataframe thead th {\n",
              "        text-align: right;\n",
              "    }\n",
              "</style>\n",
              "<table border=\"1\" class=\"dataframe\">\n",
              "  <thead>\n",
              "    <tr style=\"text-align: right;\">\n",
              "      <th></th>\n",
              "      <th>id</th>\n",
              "      <th>0</th>\n",
              "    </tr>\n",
              "  </thead>\n",
              "  <tbody>\n",
              "    <tr>\n",
              "      <th>0</th>\n",
              "      <td>1200</td>\n",
              "      <td>31.708998</td>\n",
              "    </tr>\n",
              "    <tr>\n",
              "      <th>1</th>\n",
              "      <td>1201</td>\n",
              "      <td>25.330108</td>\n",
              "    </tr>\n",
              "    <tr>\n",
              "      <th>2</th>\n",
              "      <td>1202</td>\n",
              "      <td>29.318714</td>\n",
              "    </tr>\n",
              "    <tr>\n",
              "      <th>3</th>\n",
              "      <td>1203</td>\n",
              "      <td>21.043939</td>\n",
              "    </tr>\n",
              "    <tr>\n",
              "      <th>4</th>\n",
              "      <td>1204</td>\n",
              "      <td>31.217967</td>\n",
              "    </tr>\n",
              "  </tbody>\n",
              "</table>\n",
              "</div>"
            ],
            "text/plain": [
              "     id          0\n",
              "0  1200  31.708998\n",
              "1  1201  25.330108\n",
              "2  1202  29.318714\n",
              "3  1203  21.043939\n",
              "4  1204  31.217967"
            ]
          },
          "metadata": {},
          "execution_count": 224
        }
      ]
    },
    {
      "cell_type": "code",
      "metadata": {
        "id": "FClPhOhrUK-l"
      },
      "source": [
        ""
      ],
      "execution_count": null,
      "outputs": []
    }
  ]
}